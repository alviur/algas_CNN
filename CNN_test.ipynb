{
 "cells": [
  {
   "cell_type": "markdown",
   "metadata": {},
   "source": [
    "## Libraries"
   ]
  },
  {
   "cell_type": "code",
   "execution_count": 1,
   "metadata": {
    "collapsed": true
   },
   "outputs": [],
   "source": [
    "# These are all the modules we'll be using later. Make sure you can import them\n",
    "# before proceeding further.\n",
    "from __future__ import print_function\n",
    "import pandas\n",
    "import numpy as np\n",
    "import tensorflow as tf\n",
    "from six.moves import cPickle as pickle\n",
    "from six.moves import range\n",
    "import os\n",
    "import matplotlib.pyplot as plt\n",
    "import sys\n",
    "from IPython.display import display, Image\n",
    "from scipy import ndimage,misc\n",
    "from sklearn.linear_model import LogisticRegression\n",
    "from six.moves import cPickle as pickle\n"
   ]
  },
  {
   "cell_type": "markdown",
   "metadata": {},
   "source": [
    "## Load images"
   ]
  },
  {
   "cell_type": "code",
   "execution_count": 2,
   "metadata": {
    "collapsed": false,
    "scrolled": false
   },
   "outputs": [
    {
     "name": "stdout",
     "output_type": "stream",
     "text": [
      "/home/lex/MEGAsync/2_UdeA/Algas_2/1_data/train/1\n",
      "Full dataset tensor: (1204, 112, 112)\n",
      "Mean: 4.3501\n",
      "Standard deviation: 23.6169\n",
      "/home/lex/MEGAsync/2_UdeA/Algas_2/1_data/train/2\n",
      "Full dataset tensor: (1200, 112, 112)\n",
      "Mean: 8.1774\n",
      "Standard deviation: 31.8718\n",
      "/home/lex/MEGAsync/2_UdeA/Algas_2/1_data/train/4\n",
      "Full dataset tensor: (1196, 112, 112)\n",
      "Mean: 14.9362\n",
      "Standard deviation: 42.5512\n",
      "/home/lex/MEGAsync/2_UdeA/Algas_2/1_data/train/8\n",
      "Full dataset tensor: (1080, 112, 112)\n",
      "Mean: 36.6454\n",
      "Standard deviation: 63.1382\n",
      "/home/lex/MEGAsync/2_UdeA/Algas_2/1_data/validation/1\n",
      "Full dataset tensor: (320, 112, 112)\n",
      "Mean: 3.959\n",
      "Standard deviation: 22.1975\n",
      "/home/lex/MEGAsync/2_UdeA/Algas_2/1_data/validation/2\n",
      "Full dataset tensor: (320, 112, 112)\n",
      "Mean: 8.77513\n",
      "Standard deviation: 33.23\n",
      "/home/lex/MEGAsync/2_UdeA/Algas_2/1_data/validation/4\n",
      "Full dataset tensor: (320, 112, 112)\n",
      "Mean: 13.7213\n",
      "Standard deviation: 40.7339\n",
      "/home/lex/MEGAsync/2_UdeA/Algas_2/1_data/validation/8\n",
      "Full dataset tensor: (440, 112, 112)\n",
      "Mean: 38.3532\n",
      "Standard deviation: 65.4947\n",
      "/home/lex/MEGAsync/2_UdeA/Algas_2/1_data/test/1\n",
      "Full dataset tensor: (120, 112, 112)\n",
      "Mean: 4.37059\n",
      "Standard deviation: 23.4198\n",
      "/home/lex/MEGAsync/2_UdeA/Algas_2/1_data/test/2\n",
      "Full dataset tensor: (120, 112, 112)\n",
      "Mean: 9.42794\n",
      "Standard deviation: 34.5786\n",
      "/home/lex/MEGAsync/2_UdeA/Algas_2/1_data/test/4\n",
      "Full dataset tensor: (120, 112, 112)\n",
      "Mean: 14.8297\n",
      "Standard deviation: 43.0519\n",
      "/home/lex/MEGAsync/2_UdeA/Algas_2/1_data/test/8\n",
      "Full dataset tensor: (120, 112, 112)\n",
      "Mean: 40.1139\n",
      "Standard deviation: 66.4616\n"
     ]
    }
   ],
   "source": [
    "dataPath='/home/lex/MEGAsync/2_UdeA/Algas_2/1_data/'\n",
    "image_size = 112# Pixel width and height.\n",
    "number_image_channels=3\n",
    "pixel_depth = 255.0  # Number of levels per pixel.\n",
    "dataAugmentationFactor=4\n",
    "\n",
    "def load_imageSet(folder, min_num_images):\n",
    "  \"\"\"Load the data for a single letter label.\"\"\"\n",
    "  image_files = os.listdir(folder)\n",
    "  dataset = np.ndarray(shape=(len(image_files*dataAugmentationFactor), image_size, image_size),\n",
    "                         dtype=np.float32)\n",
    "  print(folder)\n",
    "  num_images = 0\n",
    "  for image in image_files:\n",
    "    image_file = os.path.join(folder, image)\n",
    "    try:\n",
    "    \n",
    "      image_data1 = (ndimage.imread(image_file).astype(float) - \n",
    "                    pixel_depth / 2) / pixel_depth\n",
    "    \n",
    "      image_data =misc.imresize(image_data1,[image_size,image_size])\n",
    "       \n",
    "      #print(image_data.shape,image)\n",
    "      if image_data.shape != (image_size, image_size):\n",
    "          image_data =(image_data[:,:,0]+image_data[:,:,1]+image_data[:,:,2])/number_image_channels\n",
    "      if image_data.shape != (image_size, image_size):\n",
    "        raise Exception('Unexpected image shape: %s' % str(image_data.shape))\n",
    "        \n",
    "      # Data augmentation\n",
    "      # Flip\n",
    "        \n",
    "      dataset[num_images, :, :] = image_data\n",
    "      dataset[num_images+1, :, :] = np.fliplr(image_data)\n",
    "      dataset[num_images+2, :, :] = np.flipud(image_data)\n",
    "      dataset[num_images+3, :, :] =np.flipud(np.fliplr(image_data))\n",
    "    \n",
    "    \n",
    "    \n",
    "      num_images = num_images + 4\n",
    "    except IOError as e:\n",
    "      print('Could not read:', image_file, ':', e, '- it\\'s ok, skipping.')\n",
    "    \n",
    "  dataset = dataset[0:num_images, :, :]\n",
    "  if num_images < min_num_images:\n",
    "    raise Exception('Many fewer images than expected: %d < %d' %\n",
    "                    (num_images, min_num_images))\n",
    "    \n",
    "  print('Full dataset tensor:', dataset.shape)\n",
    "  print('Mean:', np.mean(dataset))\n",
    "  print('Standard deviation:', np.std(dataset))\n",
    "  return dataset\n",
    "\n",
    "# load data in vector shape\n",
    "#train - data\n",
    "trainSet1 = load_imageSet(dataPath+'train/1', 100)\n",
    "trainSet2 = load_imageSet(dataPath+'train/2', 100)\n",
    "trainSet4 = load_imageSet(dataPath+'train/4', 100)\n",
    "trainSet8 = load_imageSet(dataPath+'train/8', 100)\n",
    "trainSet=np.concatenate((trainSet1,trainSet2,trainSet4,trainSet8), axis=0)\n",
    "trainSetLabels=np.concatenate((np.zeros(len(trainSet1)),np.ones(len(trainSet2))\n",
    "                               ,np.ones(len(trainSet4))*2,np.ones(len(trainSet8))*3), axis=0)\n",
    "#validation - data\n",
    "validationSet1 = load_imageSet(dataPath+'validation/1', 80)\n",
    "validationSet2 = load_imageSet(dataPath+'validation/2', 80)\n",
    "validationSet4 = load_imageSet(dataPath+'validation/4', 80)\n",
    "validationSet8 = load_imageSet(dataPath+'validation/8', 80)\n",
    "valSet=np.concatenate((validationSet1,validationSet2,validationSet4,validationSet8), axis=0)\n",
    "valSetLabels=np.concatenate((np.zeros(len(validationSet1)),np.ones(len(validationSet2))\n",
    "                               ,np.ones(len(validationSet4))*2,np.ones(len(validationSet8))*3), axis=0)\n",
    "#test - data\n",
    "testSet1 = load_imageSet(dataPath+'test/1', 30)\n",
    "testSet2 = load_imageSet(dataPath+'test/2', 30)\n",
    "testSet4 = load_imageSet(dataPath+'test/4', 30)\n",
    "testSet8 = load_imageSet(dataPath+'test/8', 30)\n",
    "testSet=np.concatenate((testSet1,testSet2,testSet4,testSet8), axis=0)\n",
    "testSetLabels=np.concatenate((np.zeros(len(testSet1)),np.ones(len(testSet2))\n",
    "                               ,np.ones(len(testSet4))*2,np.ones(len(testSet8))*3), axis=0)"
   ]
  },
  {
   "cell_type": "markdown",
   "metadata": {},
   "source": [
    "## Reshape"
   ]
  },
  {
   "cell_type": "code",
   "execution_count": 3,
   "metadata": {
    "collapsed": false
   },
   "outputs": [
    {
     "name": "stdout",
     "output_type": "stream",
     "text": [
      "Training set (4680, 112, 112, 1) (4680, 4)\n",
      "Validation set (1400, 112, 112, 1) (1400, 4)\n",
      "Test set (480, 112, 112, 1) (480, 4)\n"
     ]
    }
   ],
   "source": [
    "image_size = 112\n",
    "num_labels = 4\n",
    "num_channels = 1 # grayscale\n",
    "\n",
    "def reformat(dataset, labels):\n",
    "  dataset = dataset.reshape((-1, image_size, image_size, num_channels)).astype(np.float32)\n",
    "  labels = (np.arange(num_labels) == labels[:,None]).astype(np.float32)\n",
    "  return dataset, labels\n",
    "\n",
    "train_dataset, train_labels = reformat(trainSet, trainSetLabels)\n",
    "valid_dataset, valid_labels = reformat(valSet, valSetLabels)\n",
    "test_dataset, test_labels = reformat(testSet, testSetLabels)\n",
    "print('Training set', train_dataset.shape, train_labels.shape)\n",
    "print('Validation set', valid_dataset.shape, valid_labels.shape)\n",
    "print('Test set', test_dataset.shape, test_labels.shape)\n"
   ]
  },
  {
   "cell_type": "code",
   "execution_count": 4,
   "metadata": {
    "collapsed": true
   },
   "outputs": [],
   "source": [
    "def randomize(dataset, labels):\n",
    "  permutation = np.random.permutation(labels.shape[0])\n",
    "  shuffled_dataset = dataset[permutation,:,:]\n",
    "  shuffled_labels = labels[permutation]\n",
    "  return shuffled_dataset, shuffled_labels\n",
    "train_dataset, train_labels = randomize(train_dataset, train_labels)\n",
    "test_dataset, test_labels = randomize(test_dataset, test_labels)\n",
    "valid_dataset, valid_labels = randomize(valid_dataset, valid_labels)"
   ]
  },
  {
   "cell_type": "code",
   "execution_count": 6,
   "metadata": {
    "collapsed": false
   },
   "outputs": [],
   "source": [
    "def accuracy(predictions, labels):\n",
    "  return (100.0 * np.sum(np.argmax(predictions, 1) == np.argmax(labels, 1))\n",
    "          / predictions.shape[0])"
   ]
  },
  {
   "cell_type": "markdown",
   "metadata": {},
   "source": [
    "## Define computational graph"
   ]
  },
  {
   "cell_type": "code",
   "execution_count": 34,
   "metadata": {
    "collapsed": false
   },
   "outputs": [
    {
     "name": "stdout",
     "output_type": "stream",
     "text": [
      "(100, 28, 28, 32) (3, 3, 32, 32)\n",
      "(1400, 28, 28, 32) (3, 3, 32, 32)\n",
      "(480, 28, 28, 32) (3, 3, 32, 32)\n"
     ]
    }
   ],
   "source": [
    "batch_size = 100\n",
    "conv1_kernel = 3\n",
    "conv2_kernel = 3\n",
    "conv3_kernel = 3\n",
    "depth = 16\n",
    "depthLayer2 = 32\n",
    "depthLayer3 = 32\n",
    "num_hidden = 100\n",
    "\n",
    "## Optimization parameters\n",
    "reg=0.005\n",
    "learningRate=0.001\n",
    "global_step=50000\n",
    "momentum=0.5\n",
    "\n",
    "graph = tf.Graph()\n",
    "\n",
    "with graph.as_default():\n",
    "\n",
    "  # Input data.\n",
    "  tf_train_dataset = tf.placeholder(\n",
    "    tf.float32, shape=(batch_size, image_size, image_size, num_channels))\n",
    "  tf_train_labels = tf.placeholder(tf.float32, shape=(batch_size, num_labels))\n",
    "  tf_valid_dataset = tf.constant(valid_dataset)\n",
    "  tf_test_dataset = tf.constant(test_dataset)\n",
    "  \n",
    "  ## Variables.\n",
    "  #Conv1 - Kernels\n",
    "  layer1_weights = tf.Variable(tf.truncated_normal(\n",
    "      [conv1_kernel, conv1_kernel, num_channels, depth], stddev=0.1))\n",
    "  layer1_biases = tf.Variable(tf.zeros([depth]))\n",
    "  #Conv2 - Kernels  \n",
    "  layer2_weights = tf.Variable(tf.truncated_normal(\n",
    "      [conv2_kernel, conv2_kernel, depth, depthLayer2], stddev=0.1))\n",
    "  layer2_biases = tf.Variable(tf.constant(1.0, shape=[depthLayer2]))\n",
    "\n",
    "  #Conv3 - Kernels  \n",
    "  layer2_1_weights = tf.Variable(tf.truncated_normal(\n",
    "      [conv3_kernel, conv3_kernel, depthLayer3, depthLayer3], stddev=0.1))\n",
    "  layer2_1_biases = tf.Variable(tf.constant(1.0, shape=[depthLayer3]))\n",
    "\n",
    "  # full-connected\n",
    "  layer3_weights = tf.Variable(tf.truncated_normal(\n",
    "      [image_size // 8 * image_size // 8 * depthLayer3, num_hidden], stddev=0.1))\n",
    "  layer3_biases = tf.Variable(tf.constant(1.0, shape=[num_hidden]))\n",
    "  layer4_weights = tf.Variable(tf.truncated_normal([num_hidden, num_labels], stddev=0.1))\n",
    "  layer4_biases = tf.Variable(tf.constant(1.0, shape=[num_labels]))\n",
    "\n",
    "## shape verification\n",
    "  \n",
    "  \n",
    "  # Model.\n",
    "  def model(data):\n",
    "    conv = tf.nn.conv2d(data, layer1_weights, [1, 1, 1, 1], padding='SAME')\n",
    "    hidden = tf.nn.relu(conv + layer1_biases)\n",
    "    pool1=tf.nn.max_pool(hidden, [1, 2, 2, 1], [1, 2, 2, 1], padding='VALID')\n",
    "    \n",
    "    conv = tf.nn.conv2d(pool1, layer2_weights, [1, 1, 1, 1], padding='SAME')\n",
    "    hidden2 = tf.nn.relu(conv + layer2_biases)\n",
    "    pool2=tf.nn.max_pool(hidden2, [1, 2, 2, 1], [1, 2, 2, 1], padding='VALID')\n",
    "    \n",
    "    print(pool2.get_shape(),layer2_1_weights.get_shape()) \n",
    "    conv = tf.nn.conv2d(pool2, layer2_1_weights, [1, 1, 1, 1], padding='SAME')\n",
    "    hidden3 = tf.nn.relu(conv + layer2_1_biases)\n",
    "    pool3=tf.nn.max_pool(hidden3, [1, 2, 2, 1], [1, 2, 2, 1], padding='VALID')\n",
    "    \n",
    "    shape = pool3.get_shape().as_list()\n",
    "    reshape = tf.reshape(pool3, [shape[0], shape[1] * shape[2] * shape[3]])\n",
    "    \n",
    "    pool = tf.nn.relu(tf.matmul(reshape, layer3_weights) + layer3_biases)\n",
    "    return tf.matmul(pool, layer4_weights) + layer4_biases\n",
    "  \n",
    "  # Training computation.\n",
    "  logits = model(tf_train_dataset)\n",
    "  loss = tf.reduce_mean(tf.nn.softmax_cross_entropy_with_logits(logits, tf_train_labels))+reg*tf.nn.l2_loss(layer1_weights)+reg*tf.nn.l2_loss(layer2_weights)+reg*tf.nn.l2_loss(layer3_weights)+reg*tf.nn.l2_loss(layer4_weights)\n",
    "    \n",
    "  # Optimizer\n",
    "  decarLR=tf.train.exponential_decay(learningRate,global_step,100000, 0.96)\n",
    "  optimizer = tf.train.MomentumOptimizer(decarLR,momentum).minimize(loss)\n",
    "  \n",
    "  # Predictions for the training, validation, and test data.\n",
    "  train_prediction = tf.nn.softmax(logits)\n",
    "  valid_prediction = tf.nn.softmax(model(tf_valid_dataset))\n",
    "  test_prediction = tf.nn.softmax(model(tf_test_dataset))"
   ]
  },
  {
   "cell_type": "markdown",
   "metadata": {},
   "source": [
    "## Running"
   ]
  },
  {
   "cell_type": "code",
   "execution_count": null,
   "metadata": {
    "collapsed": false
   },
   "outputs": [
    {
     "name": "stdout",
     "output_type": "stream",
     "text": [
      "Initialized\n",
      "Minibatch loss at step 0: 32.474979\n",
      "Minibatch accuracy: 42.0%\n",
      "Validation accuracy: 32.9%\n",
      "Minibatch loss at step 50: 12.800685\n",
      "Minibatch accuracy: 75.0%\n",
      "Validation accuracy: 75.9%\n",
      "Minibatch loss at step 100: 12.650283\n",
      "Minibatch accuracy: 84.0%\n",
      "Validation accuracy: 80.2%\n",
      "Minibatch loss at step 150: 12.736807\n",
      "Minibatch accuracy: 73.0%\n",
      "Validation accuracy: 82.2%\n"
     ]
    }
   ],
   "source": [
    "num_steps = 1500\n",
    "\n",
    "with tf.Session(graph=graph) as session:\n",
    "  init_new_vars_op =tf.initialize_all_variables()\n",
    "  session.run(init_new_vars_op)\n",
    "  print('Initialized')\n",
    "  for step in range(num_steps):\n",
    "    offset = (step * batch_size) % (train_labels.shape[0] - batch_size)\n",
    "    batch_data = train_dataset[offset:(offset + batch_size), :, :, :]\n",
    "    batch_labels = train_labels[offset:(offset + batch_size), :]\n",
    "    feed_dict = {tf_train_dataset : batch_data, tf_train_labels : batch_labels}\n",
    "    _, l, predictions = session.run(\n",
    "      [optimizer, loss, train_prediction], feed_dict=feed_dict)\n",
    "    if (step % 50 == 0):\n",
    "      print('Minibatch loss at step %d: %f' % (step, l))\n",
    "      print('Minibatch accuracy: %.1f%%' % accuracy(predictions, batch_labels))\n",
    "      print('Validation accuracy: %.1f%%' % accuracy(\n",
    "        valid_prediction.eval(), valid_labels))\n",
    "  print('Test accuracy: %.1f%%' % accuracy(test_prediction.eval(), test_labels))"
   ]
  },
  {
   "cell_type": "code",
   "execution_count": 63,
   "metadata": {
    "collapsed": false,
    "scrolled": true
   },
   "outputs": [
    {
     "data": {
      "image/png": "[encoded data removed]",
      "text/plain": [
       "<matplotlib.figure.Figure at 0x7efd0ffff050>"
      ]
     },
     "metadata": {},
     "output_type": "display_data"
    }
   ],
   "source": [
    "#image_data0 = (ndimage.imread(dataPath+'train/1.jpg').astype(float) - \n",
    "#                    pixel_depth / 2) / pixel_depth\n",
    "\n",
    "\n",
    "\n",
    "imgplot = plt.imshow(train_dataset[9,:,:,0])\n",
    "plt.show(imgplot)\n"
   ]
  },
  {
   "cell_type": "code",
   "execution_count": null,
   "metadata": {
    "collapsed": true
   },
   "outputs": [],
   "source": [
    "batch_size = 100\n",
    "patch_size = 5\n",
    "depth = 16\n",
    "depthLayer2 = 32\n",
    "num_hidden = 150\n",
    "\n",
    "## Optimization parameters\n",
    "reg=0.0005\n",
    "learningRate=0.001\n",
    "global_step=50000\n",
    "\n",
    "graph = tf.Graph()\n",
    "\n",
    "with graph.as_default():\n",
    "\n",
    "  # Input data.\n",
    "  tf_train_dataset = tf.placeholder(\n",
    "    tf.float32, shape=(batch_size, image_size, image_size, num_channels))\n",
    "  tf_train_labels = tf.placeholder(tf.float32, shape=(batch_size, num_labels))\n",
    "  tf_valid_dataset = tf.constant(valid_dataset)\n",
    "  tf_test_dataset = tf.constant(test_dataset)\n",
    "  \n",
    "  # Variables.\n",
    "  layer1_weights = tf.Variable(tf.truncated_normal(\n",
    "      [patch_size, patch_size, num_channels, depth], stddev=0.1))\n",
    "  layer1_biases = tf.Variable(tf.zeros([depth]))\n",
    "  layer2_weights = tf.Variable(tf.truncated_normal(\n",
    "      [patch_size, patch_size, depth, depthLayer2], stddev=0.1))\n",
    "  layer2_biases = tf.Variable(tf.constant(1.0, shape=[depthLayer2]))\n",
    "  layer3_weights = tf.Variable(tf.truncated_normal(\n",
    "      [image_size // 4 * image_size // 4 * depthLayer2, num_hidden], stddev=0.1))\n",
    "  layer3_biases = tf.Variable(tf.constant(1.0, shape=[num_hidden]))\n",
    "  layer4_weights = tf.Variable(tf.truncated_normal([num_hidden, num_labels], stddev=0.1))\n",
    "  layer4_biases = tf.Variable(tf.constant(1.0, shape=[num_labels]))\n",
    "\n",
    "## shape verification\n",
    "  \n",
    "  \n",
    "  # Model.\n",
    "  def model(data):\n",
    "    conv = tf.nn.conv2d(data, layer1_weights, [1, 1, 1, 1], padding='SAME')\n",
    "    hidden = tf.nn.relu(conv + layer1_biases)\n",
    "    pool=tf.nn.max_pool(hidden, [1, 2, 2, 1], [1, 2, 2, 1], padding='VALID')\n",
    "    conv = tf.nn.conv2d(pool, layer2_weights, [1, 1, 1, 1], padding='SAME')\n",
    "    hidden2 = tf.nn.relu(conv + layer2_biases)\n",
    "    pool=tf.nn.max_pool(hidden2, [1, 2, 2, 1], [1, 2, 2, 1], padding='VALID')\n",
    "    shape = pool.get_shape().as_list()\n",
    "    reshape = tf.reshape(pool, [shape[0], shape[1] * shape[2] * shape[3]])\n",
    "    print(layer2_weights.get_shape())\n",
    "    pool = tf.nn.relu(tf.matmul(reshape, layer3_weights) + layer3_biases)\n",
    "    return tf.matmul(pool, layer4_weights) + layer4_biases\n",
    "  \n",
    "  # Training computation.\n",
    "  logits = model(tf_train_dataset)\n",
    "  loss = tf.reduce_mean(tf.nn.softmax_cross_entropy_with_logits(logits, tf_train_labels))+reg*tf.nn.l2_loss(layer1_weights)+reg*tf.nn.l2_loss(layer2_weights)+reg*tf.nn.l2_loss(layer3_weights)+reg*tf.nn.l2_loss(layer4_weights)\n",
    "    \n",
    "  # Optimizer\n",
    "  decarLR=tf.train.exponential_decay(learningRate,global_step,100000, 0.96)\n",
    "  optimizer = tf.train.GradientDescentOptimizer(decarLR).minimize(loss)\n",
    "  \n",
    "  # Predictions for the training, validation, and test data.\n",
    "  train_prediction = tf.nn.softmax(logits)\n",
    "  valid_prediction = tf.nn.softmax(model(tf_valid_dataset))\n",
    "  test_prediction = tf.nn.softmax(model(tf_test_dataset))"
   ]
  }
 ],
 "metadata": {
  "anaconda-cloud": {},
  "kernelspec": {
   "display_name": "Python [conda env:tensorflow_env]",
   "language": "python",
   "name": "conda-env-tensorflow_env-py"
  },
  "language_info": {
   "codemirror_mode": {
    "name": "ipython",
    "version": 2
   },
   "file_extension": ".py",
   "mimetype": "text/x-python",
   "name": "python",
   "nbconvert_exporter": "python",
   "pygments_lexer": "ipython2",
   "version": "2.7.12"
  }
 },
 "nbformat": 4,
 "nbformat_minor": 1
}
